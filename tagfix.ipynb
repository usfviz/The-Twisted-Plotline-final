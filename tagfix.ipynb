{
 "cells": [
  {
   "cell_type": "code",
<<<<<<< HEAD
   "execution_count": 19,
=======
   "execution_count": 1,
>>>>>>> 4d5630eae61389263761fbd90340a08c6b0cfd7e
   "metadata": {
    "collapsed": true
   },
   "outputs": [],
   "source": [
    "import pandas as pd\n",
    "import re"
   ]
  },
  {
   "cell_type": "code",
<<<<<<< HEAD
   "execution_count": 4,
=======
   "execution_count": 2,
>>>>>>> 4d5630eae61389263761fbd90340a08c6b0cfd7e
   "metadata": {
    "collapsed": true
   },
   "outputs": [],
   "source": [
    "matchdf = pd.read_csv('matchdf.csv')"
   ]
  },
  {
   "cell_type": "code",
<<<<<<< HEAD
   "execution_count": 5,
=======
   "execution_count": 3,
>>>>>>> 4d5630eae61389263761fbd90340a08c6b0cfd7e
   "metadata": {
    "collapsed": false
   },
   "outputs": [
    {
     "data": {
      "text/html": [
       "<div>\n",
       "<table border=\"1\" class=\"dataframe\">\n",
       "  <thead>\n",
       "    <tr style=\"text-align: right;\">\n",
       "      <th></th>\n",
       "      <th>matchId</th>\n",
       "      <th>summonerId</th>\n",
       "      <th>teamId</th>\n",
       "      <th>matchteamId</th>\n",
       "      <th>championId</th>\n",
       "      <th>ban</th>\n",
       "      <th>baronKills</th>\n",
       "      <th>dragonKills</th>\n",
       "      <th>towerKills</th>\n",
       "      <th>userRank</th>\n",
       "      <th>...</th>\n",
<<<<<<< HEAD
       "      <th>xpThirtyToEnd</th>\n",
       "      <th>xpTwentyToThirty</th>\n",
       "      <th>xpZeroToTen</th>\n",
=======
>>>>>>> 4d5630eae61389263761fbd90340a08c6b0cfd7e
       "      <th>championName</th>\n",
       "      <th>tags</th>\n",
       "      <th>banlist</th>\n",
       "      <th>endGold</th>\n",
       "      <th>endCreeps</th>\n",
       "      <th>endDamage</th>\n",
       "      <th>endXp</th>\n",
<<<<<<< HEAD
=======
       "      <th>ban1</th>\n",
       "      <th>ban2</th>\n",
       "      <th>ban3</th>\n",
>>>>>>> 4d5630eae61389263761fbd90340a08c6b0cfd7e
       "    </tr>\n",
       "  </thead>\n",
       "  <tbody>\n",
       "    <tr>\n",
       "      <th>0</th>\n",
       "      <td>2054994244</td>\n",
       "      <td>51666047</td>\n",
       "      <td>100</td>\n",
       "      <td>2054994244-100</td>\n",
       "      <td>236</td>\n",
       "      <td>[36, 16, 238]</td>\n",
       "      <td>1</td>\n",
       "      <td>1</td>\n",
       "      <td>5</td>\n",
       "      <td>UNRANKED</td>\n",
       "      <td>...</td>\n",
<<<<<<< HEAD
       "      <td>550.15</td>\n",
       "      <td>355.0</td>\n",
       "      <td>373.1</td>\n",
=======
>>>>>>> 4d5630eae61389263761fbd90340a08c6b0cfd7e
       "      <td>Lucian</td>\n",
       "      <td>[u'Marksman']</td>\n",
       "      <td>[u'Dr. Mundo', u'Soraka', u'Zed']</td>\n",
       "      <td>1282.40</td>\n",
       "      <td>17.90</td>\n",
       "      <td>3204.70</td>\n",
       "      <td>1662.45</td>\n",
<<<<<<< HEAD
=======
       "      <td>Dr. Mundo</td>\n",
       "      <td>Soraka</td>\n",
       "      <td>Zed</td>\n",
>>>>>>> 4d5630eae61389263761fbd90340a08c6b0cfd7e
       "    </tr>\n",
       "    <tr>\n",
       "      <th>1</th>\n",
       "      <td>2054994244</td>\n",
       "      <td>42726231</td>\n",
       "      <td>100</td>\n",
       "      <td>2054994244-100</td>\n",
       "      <td>40</td>\n",
       "      <td>[36, 16, 238]</td>\n",
       "      <td>1</td>\n",
       "      <td>1</td>\n",
       "      <td>5</td>\n",
       "      <td>SILVER</td>\n",
       "      <td>...</td>\n",
<<<<<<< HEAD
       "      <td>558.65</td>\n",
       "      <td>377.4</td>\n",
       "      <td>0.0</td>\n",
=======
>>>>>>> 4d5630eae61389263761fbd90340a08c6b0cfd7e
       "      <td>Janna</td>\n",
       "      <td>[u'Support', u'Mage']</td>\n",
       "      <td>[u'Dr. Mundo', u'Soraka', u'Zed']</td>\n",
       "      <td>1076.30</td>\n",
       "      <td>2.70</td>\n",
       "      <td>2483.50</td>\n",
       "      <td>1350.45</td>\n",
<<<<<<< HEAD
=======
       "      <td>Dr. Mundo</td>\n",
       "      <td>Soraka</td>\n",
       "      <td>Zed</td>\n",
>>>>>>> 4d5630eae61389263761fbd90340a08c6b0cfd7e
       "    </tr>\n",
       "    <tr>\n",
       "      <th>2</th>\n",
       "      <td>2054994244</td>\n",
       "      <td>49262934</td>\n",
       "      <td>100</td>\n",
       "      <td>2054994244-100</td>\n",
       "      <td>75</td>\n",
       "      <td>[36, 16, 238]</td>\n",
       "      <td>1</td>\n",
       "      <td>1</td>\n",
       "      <td>5</td>\n",
       "      <td>SILVER</td>\n",
       "      <td>...</td>\n",
<<<<<<< HEAD
       "      <td>818.55</td>\n",
       "      <td>566.2</td>\n",
       "      <td>380.5</td>\n",
=======
>>>>>>> 4d5630eae61389263761fbd90340a08c6b0cfd7e
       "      <td>Nasus</td>\n",
       "      <td>[u'Fighter', u'Tank']</td>\n",
       "      <td>[u'Dr. Mundo', u'Soraka', u'Zed']</td>\n",
       "      <td>1644.95</td>\n",
       "      <td>26.80</td>\n",
       "      <td>4103.30</td>\n",
       "      <td>2380.95</td>\n",
<<<<<<< HEAD
=======
       "      <td>Dr. Mundo</td>\n",
       "      <td>Soraka</td>\n",
       "      <td>Zed</td>\n",
>>>>>>> 4d5630eae61389263761fbd90340a08c6b0cfd7e
       "    </tr>\n",
       "    <tr>\n",
       "      <th>3</th>\n",
       "      <td>2054994244</td>\n",
       "      <td>50204765</td>\n",
       "      <td>100</td>\n",
       "      <td>2054994244-100</td>\n",
       "      <td>32</td>\n",
       "      <td>[36, 16, 238]</td>\n",
       "      <td>1</td>\n",
       "      <td>1</td>\n",
       "      <td>5</td>\n",
       "      <td>SILVER</td>\n",
       "      <td>...</td>\n",
<<<<<<< HEAD
       "      <td>546.20</td>\n",
       "      <td>432.3</td>\n",
       "      <td>232.5</td>\n",
=======
>>>>>>> 4d5630eae61389263761fbd90340a08c6b0cfd7e
       "      <td>Amumu</td>\n",
       "      <td>[u'Tank', u'Mage']</td>\n",
       "      <td>[u'Dr. Mundo', u'Soraka', u'Zed']</td>\n",
       "      <td>1231.65</td>\n",
       "      <td>7.80</td>\n",
       "      <td>3780.35</td>\n",
       "      <td>1742.00</td>\n",
<<<<<<< HEAD
=======
       "      <td>Dr. Mundo</td>\n",
       "      <td>Soraka</td>\n",
       "      <td>Zed</td>\n",
>>>>>>> 4d5630eae61389263761fbd90340a08c6b0cfd7e
       "    </tr>\n",
       "    <tr>\n",
       "      <th>4</th>\n",
       "      <td>2054994244</td>\n",
       "      <td>53865827</td>\n",
       "      <td>100</td>\n",
       "      <td>2054994244-100</td>\n",
       "      <td>98</td>\n",
       "      <td>[36, 16, 238]</td>\n",
       "      <td>1</td>\n",
       "      <td>1</td>\n",
       "      <td>5</td>\n",
       "      <td>SILVER</td>\n",
       "      <td>...</td>\n",
<<<<<<< HEAD
       "      <td>436.30</td>\n",
       "      <td>410.2</td>\n",
       "      <td>347.3</td>\n",
=======
>>>>>>> 4d5630eae61389263761fbd90340a08c6b0cfd7e
       "      <td>Shen</td>\n",
       "      <td>[u'Tank,melee']</td>\n",
       "      <td>[u'Dr. Mundo', u'Soraka', u'Zed']</td>\n",
       "      <td>1255.15</td>\n",
       "      <td>11.15</td>\n",
       "      <td>4476.65</td>\n",
       "      <td>1642.30</td>\n",
<<<<<<< HEAD
       "    </tr>\n",
       "  </tbody>\n",
       "</table>\n",
       "<p>5 rows × 38 columns</p>\n",
=======
       "      <td>Dr. Mundo</td>\n",
       "      <td>Soraka</td>\n",
       "      <td>Zed</td>\n",
       "    </tr>\n",
       "  </tbody>\n",
       "</table>\n",
       "<p>5 rows × 41 columns</p>\n",
>>>>>>> 4d5630eae61389263761fbd90340a08c6b0cfd7e
       "</div>"
      ],
      "text/plain": [
       "      matchId  summonerId  teamId     matchteamId  championId            ban  \\\n",
       "0  2054994244    51666047     100  2054994244-100         236  [36, 16, 238]   \n",
       "1  2054994244    42726231     100  2054994244-100          40  [36, 16, 238]   \n",
       "2  2054994244    49262934     100  2054994244-100          75  [36, 16, 238]   \n",
       "3  2054994244    50204765     100  2054994244-100          32  [36, 16, 238]   \n",
       "4  2054994244    53865827     100  2054994244-100          98  [36, 16, 238]   \n",
       "\n",
<<<<<<< HEAD
       "   baronKills  dragonKills  towerKills  userRank   ...     xpThirtyToEnd  \\\n",
       "0           1            1           5  UNRANKED   ...            550.15   \n",
       "1           1            1           5    SILVER   ...            558.65   \n",
       "2           1            1           5    SILVER   ...            818.55   \n",
       "3           1            1           5    SILVER   ...            546.20   \n",
       "4           1            1           5    SILVER   ...            436.30   \n",
       "\n",
       "   xpTwentyToThirty  xpZeroToTen  championName                   tags  \\\n",
       "0             355.0        373.1        Lucian          [u'Marksman']   \n",
       "1             377.4          0.0         Janna  [u'Support', u'Mage']   \n",
       "2             566.2        380.5         Nasus  [u'Fighter', u'Tank']   \n",
       "3             432.3        232.5         Amumu     [u'Tank', u'Mage']   \n",
       "4             410.2        347.3          Shen        [u'Tank,melee']   \n",
       "\n",
       "                             banlist  endGold  endCreeps  endDamage    endXp  \n",
       "0  [u'Dr. Mundo', u'Soraka', u'Zed']  1282.40      17.90    3204.70  1662.45  \n",
       "1  [u'Dr. Mundo', u'Soraka', u'Zed']  1076.30       2.70    2483.50  1350.45  \n",
       "2  [u'Dr. Mundo', u'Soraka', u'Zed']  1644.95      26.80    4103.30  2380.95  \n",
       "3  [u'Dr. Mundo', u'Soraka', u'Zed']  1231.65       7.80    3780.35  1742.00  \n",
       "4  [u'Dr. Mundo', u'Soraka', u'Zed']  1255.15      11.15    4476.65  1642.30  \n",
       "\n",
       "[5 rows x 38 columns]"
      ]
     },
     "execution_count": 5,
=======
       "   baronKills  dragonKills  towerKills  userRank  ...   championName  \\\n",
       "0           1            1           5  UNRANKED  ...         Lucian   \n",
       "1           1            1           5    SILVER  ...          Janna   \n",
       "2           1            1           5    SILVER  ...          Nasus   \n",
       "3           1            1           5    SILVER  ...          Amumu   \n",
       "4           1            1           5    SILVER  ...           Shen   \n",
       "\n",
       "                    tags                            banlist  endGold  \\\n",
       "0          [u'Marksman']  [u'Dr. Mundo', u'Soraka', u'Zed']  1282.40   \n",
       "1  [u'Support', u'Mage']  [u'Dr. Mundo', u'Soraka', u'Zed']  1076.30   \n",
       "2  [u'Fighter', u'Tank']  [u'Dr. Mundo', u'Soraka', u'Zed']  1644.95   \n",
       "3     [u'Tank', u'Mage']  [u'Dr. Mundo', u'Soraka', u'Zed']  1231.65   \n",
       "4        [u'Tank,melee']  [u'Dr. Mundo', u'Soraka', u'Zed']  1255.15   \n",
       "\n",
       "   endCreeps  endDamage    endXp       ban1    ban2  ban3  \n",
       "0      17.90    3204.70  1662.45  Dr. Mundo  Soraka   Zed  \n",
       "1       2.70    2483.50  1350.45  Dr. Mundo  Soraka   Zed  \n",
       "2      26.80    4103.30  2380.95  Dr. Mundo  Soraka   Zed  \n",
       "3       7.80    3780.35  1742.00  Dr. Mundo  Soraka   Zed  \n",
       "4      11.15    4476.65  1642.30  Dr. Mundo  Soraka   Zed  \n",
       "\n",
       "[5 rows x 41 columns]"
      ]
     },
     "execution_count": 3,
>>>>>>> 4d5630eae61389263761fbd90340a08c6b0cfd7e
     "metadata": {},
     "output_type": "execute_result"
    }
   ],
   "source": [
    "matchdf.head()"
   ]
  },
  {
   "cell_type": "code",
<<<<<<< HEAD
   "execution_count": 25,
=======
   "execution_count": 4,
>>>>>>> 4d5630eae61389263761fbd90340a08c6b0cfd7e
   "metadata": {
    "collapsed": true
   },
   "outputs": [],
   "source": [
    "tags = matchdf['tags']"
   ]
  },
  {
   "cell_type": "code",
<<<<<<< HEAD
   "execution_count": 27,
=======
   "execution_count": 5,
>>>>>>> 4d5630eae61389263761fbd90340a08c6b0cfd7e
   "metadata": {
    "collapsed": false
   },
   "outputs": [
    {
     "data": {
      "text/plain": [
       "0                    [u'Marksman']\n",
       "1            [u'Support', u'Mage']\n",
       "2            [u'Fighter', u'Tank']\n",
       "3               [u'Tank', u'Mage']\n",
       "4                  [u'Tank,melee']\n",
       "5           [u'Mage', u'Marksman']\n",
       "6        [u'Fighter', u'Assassin']\n",
       "7            [u'Support', u'Mage']\n",
       "8        [u'Fighter', u'Assassin']\n",
       "9       [u'Marksman', u'Assassin']\n",
       "10           [u'Fighter', u'Tank']\n",
       "11              [u'Tank', u'Mage']\n",
       "12                   [u'Marksman']\n",
       "13           [u'Fighter', u'Tank']\n",
       "14           [u'Tank', u'Fighter']\n",
       "15       [u'Fighter', u'Assassin']\n",
       "16                    [u'Fighter']\n",
       "17           [u'Support', u'Tank']\n",
       "18           [u'Fighter', u'Tank']\n",
       "19      [u'Marksman', u'Assassin']\n",
       "20           [u'Fighter', u'Tank']\n",
       "21       [u'Fighter', u'Assassin']\n",
       "22       [u'Assassin', u'Fighter']\n",
       "23           [u'Support', u'Mage']\n",
       "24                   [u'Marksman']\n",
       "25      [u'Marksman', u'Assassin']\n",
       "26                       [u'Mage']\n",
       "27           [u'Support', u'Tank']\n",
       "28          [u'Marksman', u'Mage']\n",
       "29          [u'Assassin', u'Mage']\n",
       "                   ...            \n",
       "9970     [u'Fighter', u'Assassin']\n",
       "9971     [u'Fighter', u'Assassin']\n",
       "9972        [u'Assassin', u'Mage']\n",
       "9973      [u'Support', u'Fighter']\n",
       "9974    [u'Marksman', u'Assassin']\n",
       "9975         [u'Fighter', u'Tank']\n",
       "9976        [u'Marksman', u'Mage']\n",
       "9977         [u'Mage', u'Support']\n",
       "9978     [u'Assassin', u'Fighter']\n",
       "9979         [u'Support', u'Mage']\n",
       "9980     [u'Fighter', u'Assassin']\n",
       "9981         [u'Mage', u'Support']\n",
       "9982         [u'Fighter', u'Tank']\n",
       "9983      [u'Support', u'Fighter']\n",
       "9984    [u'Marksman', u'Assassin']\n",
       "9985         [u'Tank', u'Fighter']\n",
       "9986         [u'Support', u'Tank']\n",
       "9987                 [u'Marksman']\n",
       "9988     [u'Fighter', u'Assassin']\n",
       "9989         [u'Mage', u'Support']\n",
       "9990         [u'Fighter', u'Tank']\n",
       "9991         [u'Fighter', u'Tank']\n",
       "9992         [u'Support', u'Mage']\n",
       "9993                     [u'Mage']\n",
       "9994        [u'Marksman', u'Mage']\n",
       "9995            [u'Tank', u'Mage']\n",
       "9996         [u'Mage', u'Support']\n",
       "9997         [u'Tank', u'Fighter']\n",
       "9998                 [u'Marksman']\n",
       "9999     [u'Marksman', u'Support']\n",
       "Name: tags, dtype: object"
      ]
     },
<<<<<<< HEAD
     "execution_count": 27,
=======
     "execution_count": 5,
>>>>>>> 4d5630eae61389263761fbd90340a08c6b0cfd7e
     "metadata": {},
     "output_type": "execute_result"
    }
   ],
   "source": [
    "tags"
   ]
  },
  {
   "cell_type": "code",
<<<<<<< HEAD
   "execution_count": 28,
=======
   "execution_count": 6,
>>>>>>> 4d5630eae61389263761fbd90340a08c6b0cfd7e
   "metadata": {
    "collapsed": false
   },
   "outputs": [],
   "source": [
    "new_tags = []\n",
    "for tag in tags:\n",
    "    new_tags.append(re.sub(r'\\W+', '', tag.split(',')[0][3:]))"
   ]
  },
  {
   "cell_type": "code",
<<<<<<< HEAD
   "execution_count": 31,
=======
   "execution_count": 7,
>>>>>>> 4d5630eae61389263761fbd90340a08c6b0cfd7e
   "metadata": {
    "collapsed": false
   },
   "outputs": [],
   "source": [
    "matchdf['tags'] = new_tags"
   ]
  },
  {
   "cell_type": "code",
<<<<<<< HEAD
   "execution_count": 34,
=======
   "execution_count": 8,
>>>>>>> 4d5630eae61389263761fbd90340a08c6b0cfd7e
   "metadata": {
    "collapsed": false
   },
   "outputs": [],
   "source": [
    "matchdf.to_csv(\"matchdf_tagfix.csv\")"
   ]
<<<<<<< HEAD
=======
  },
  {
   "cell_type": "code",
   "execution_count": null,
   "metadata": {
    "collapsed": true
   },
   "outputs": [],
   "source": []
>>>>>>> 4d5630eae61389263761fbd90340a08c6b0cfd7e
  }
 ],
 "metadata": {
  "kernelspec": {
   "display_name": "Python 2",
   "language": "python",
   "name": "python2"
  },
  "language_info": {
   "codemirror_mode": {
    "name": "ipython",
    "version": 2
   },
   "file_extension": ".py",
   "mimetype": "text/x-python",
   "name": "python",
   "nbconvert_exporter": "python",
   "pygments_lexer": "ipython2",
<<<<<<< HEAD
   "version": "2.7.13"
=======
   "version": "2.7.12"
>>>>>>> 4d5630eae61389263761fbd90340a08c6b0cfd7e
  }
 },
 "nbformat": 4,
 "nbformat_minor": 2
}
